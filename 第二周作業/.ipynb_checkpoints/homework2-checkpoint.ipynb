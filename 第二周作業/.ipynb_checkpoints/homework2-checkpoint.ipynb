{
 "cells": [
  {
   "cell_type": "code",
   "execution_count": 61,
   "id": "f8d3ff14",
   "metadata": {},
   "outputs": [],
   "source": [
    "import pandas as pd\n",
    "\n",
    "data=pd.read_csv('homework1.csv')\n",
    "\n",
    "# print(df.to_string())\n",
    "\n",
    "# data"
   ]
  },
  {
   "cell_type": "code",
   "execution_count": 62,
   "id": "98cb8b9d",
   "metadata": {
    "scrolled": true
   },
   "outputs": [],
   "source": [
    "#1\n",
    "#由於低一行為中文解釋，需要先進行刪除才能在後續整行合併時不會有字串相加導致系統錯誤\n",
    "data= data.drop(0)\n",
    "# data"
   ]
  },
  {
   "cell_type": "code",
   "execution_count": 63,
   "id": "87b9118c",
   "metadata": {},
   "outputs": [],
   "source": [
    "#2\n",
    "#將特定行的字串轉成整數，才能在後面進行加總\n",
    "data['edu_age_15up_total']=data[\"edu_age_15up_total\"].astype(int)\n",
    "#合併相同site_id名稱\n",
    "data=data.groupby(['site_id'])['edu_age_15up_total'].sum().reset_index()\n",
    "# data"
   ]
  },
  {
   "cell_type": "code",
   "execution_count": 64,
   "id": "b67f3987",
   "metadata": {},
   "outputs": [],
   "source": [
    "#3\n",
    "#由於目標為新北以及台北，且若要寫程式來將新北以及台北人口excel進行轉入並合併，會稍微花時間，由於僅40列，因此直接一一打入\n",
    "\n",
    "data.loc[11,\"Population\"]=557183\n",
    "data.loc[3,\"Population\"]=413063\n",
    "data.loc[10,\"Population\"]=420927\n",
    "data.loc[2,\"Population\"]=386098\n",
    "data.loc[9,\"Population\"]=303750\n",
    "data.loc[37,\"Population\"]=307129\n",
    "data.loc[35,\"Population\"]=282774\n",
    "data.loc[32,\"Population\"]=285228\n",
    "data.loc[38,\"Population\"]=271339\n",
    "data.loc[33,\"Population\"]=253011\n",
    "data.loc[6,\"Population\"]=237819\n",
    "data.loc[29,\"Population\"]=226852\n",
    "data.loc[14,\"Population\"]=220708\n",
    "data.loc[31,\"Population\"]=219315\n",
    "data.loc[15,\"Population\"]=203864\n",
    "data.loc[24,\"Population\"]=202135\n",
    "data.loc[39,\"Population\"]=203658\n",
    "data.loc[40,\"Population\"]=186428\n",
    "data.loc[17,\"Population\"]=179514\n",
    "data.loc[13,\"Population\"]=183956\n",
    "data.loc[30,\"Population\"]=157567\n",
    "data.loc[36,\"Population\"]=125755\n",
    "data.loc[34,\"Population\"]=120028\n",
    "data.loc[0,\"Population\"]=116642\n",
    "data.loc[12,\"Population\"]=116426\n",
    "data.loc[4,\"Population\"]=88312\n",
    "data.loc[28,\"Population\"]=87073\n",
    "data.loc[16,\"Population\"]=78684\n",
    "data.loc[20,\"Population\"]=39456\n",
    "data.loc[5,\"Population\"]=39573\n",
    "data.loc[18,\"Population\"]=23756\n",
    "data.loc[1,\"Population\"]=22736\n",
    "data.loc[23,\"Population\"]=21801\n",
    "data.loc[26,\"Population\"]=21357\n",
    "data.loc[25,\"Population\"]=11979\n",
    "data.loc[22,\"Population\"]=11755\n",
    "data.loc[27,\"Population\"]=8631\n",
    "data.loc[21,\"Population\"]=7607\n",
    "data.loc[7,\"Population\"]=6719\n",
    "data.loc[19,\"Population\"]=6407\n",
    "data.loc[8,\"Population\"]=4519\n",
    "\n",
    "# data"
   ]
  },
  {
   "cell_type": "code",
   "execution_count": 65,
   "id": "64d9634b",
   "metadata": {},
   "outputs": [],
   "source": [
    "#4\n",
    "#將受教育人口數進行合併，並排名\n",
    "data['台北/新北受教育人口數排名'] = data.edu_age_15up_total.rank(method='first',ascending=False)\n",
    "#依據該地區在台北/新北受教育人口進行排名\n",
    "data.sort_values(\"台北/新北受教育人口數排名\",inplace=True)\n",
    "# data"
   ]
  },
  {
   "cell_type": "code",
   "execution_count": 66,
   "id": "8a92ed5b",
   "metadata": {},
   "outputs": [],
   "source": [
    "#5\n",
    "#用受教育人口數/該地區人口總數，並以rate名稱進行存取\n",
    "data['rate']=data['edu_age_15up_total']/data['Population']\n",
    "#將其轉入成百分比\n",
    "# data[\"rate_percentage\"] = data[\"rate\"].apply(lambda x: format(x,\".2%\"))\n",
    "# data"
   ]
  },
  {
   "cell_type": "code",
   "execution_count": 67,
   "id": "06c66750",
   "metadata": {},
   "outputs": [],
   "source": [
    "#6\n",
    "data['台北/新北曾經受過教育百分比排名'] = data.rate.rank(method='first',ascending=False)\n",
    "data.sort_values(\"台北/新北曾經受過教育百分比排名\",inplace=True)\n",
    "# data"
   ]
  },
  {
   "cell_type": "code",
   "execution_count": 68,
   "id": "a009a154",
   "metadata": {
    "scrolled": true
   },
   "outputs": [],
   "source": [
    "import pandas as pd\n",
    "\n",
    "datata=pd.read_csv('homework1.csv')\n",
    "\n",
    "# print(df.to_string())\n",
    "\n",
    "datata=datata.drop(0)\n",
    "# datata=datata.astype(int)\n",
    "\n",
    "datata=datata.iloc[:,[2,4,7,8,11,12,15,16,19,20,23,24,27,28,31,32,33,34,37,38,41,42,45,46,49,50]]\n",
    "# datata=datata.astype(int)\n",
    "# datata"
   ]
  },
  {
   "cell_type": "code",
   "execution_count": 69,
   "id": "45bdb0d6",
   "metadata": {},
   "outputs": [],
   "source": [
    "#6\n",
    "#由於在後面需要利用迴圈，因此需要所有欄位名稱，並需要刪除site_id，由於不能直接就刪除該行，因此需要存入到list中\n",
    "list=[]\n",
    "for i in datata:\n",
    "    list.append(i)\n",
    "list.remove('site_id')"
   ]
  },
  {
   "cell_type": "code",
   "execution_count": 70,
   "id": "10aab83a",
   "metadata": {},
   "outputs": [
    {
     "name": "stdout",
     "output_type": "stream",
     "text": [
      "edu_doctor_ungraduated_m\n",
      "edu_doctor_ungraduated_f\n",
      "edu_master_ungraduated_m\n",
      "edu_master_ungraduated_f\n",
      "edu_university_ungraduated_m\n",
      "edu_university_ungraduated_f\n",
      "edu_juniorcollege_2ys_ungraduated_m\n",
      "edu_juniorcollege_2ys_ungraduated_f\n",
      "edu_juniorcollege_5ys_final2y_ungraduated_m\n",
      "edu_juniorcollege_5ys_final2y_ungraduated_f\n",
      "edu_senior_ungraduated_m\n",
      "edu_senior_ungraduated_f\n",
      "edu_seniorvocational_ungraduated_m\n",
      "edu_seniorvocational_ungraduated_f\n",
      "edu_juniorcollege_5ys_first3y_ungraduated_m\n",
      "edu_juniorcollege_5ys_first3y_ungraduated_f\n",
      "edu_junior_ungraduated_m\n",
      "edu_junior_ungraduated_f\n",
      "edu_juniorvocational_ungraduated_m\n",
      "edu_juniorvocational_ungraduated_f\n",
      "edu_primary_ungraduated_m\n",
      "edu_primary_ungraduated_f\n",
      "edu_illiterate_m\n",
      "edu_illiterate_f\n"
     ]
    }
   ],
   "source": [
    "#7\n",
    "#利用迴圈將特定行轉成整數，用0123應該也可以\n",
    "datata['ungraduated_sum']=0\n",
    "for i in list:\n",
    "    datata[i]=datata[i].astype(int)\n",
    "    \n",
    "list.remove('edu_age_15up_total')\n",
    "for j in list:\n",
    "    print(j)\n",
    "#     print(datata[j])\n",
    "    datata['ungraduated_sum']+=datata[j]\n",
    "#     print(datata['ungraduated_sum'])\n",
    "\n",
    "# datata=datata.groupby(['site_id'])['ungraduated_sum'].sum().reset_index()\n",
    "    \n",
    "  \n",
    "datata['graduated_sum']=datata['edu_age_15up_total']-datata['ungraduated_sum']\n",
    "# datata"
   ]
  },
  {
   "cell_type": "code",
   "execution_count": 71,
   "id": "9d2121ad",
   "metadata": {},
   "outputs": [
    {
     "name": "stderr",
     "output_type": "stream",
     "text": [
      "C:\\Users\\shawn\\AppData\\Local\\Temp\\ipykernel_12000\\4201757961.py:3: FutureWarning:\n",
      "\n",
      "Indexing with multiple keys (implicitly converted to a tuple of keys) will be deprecated, use a list instead.\n",
      "\n"
     ]
    }
   ],
   "source": [
    "#8\n",
    "#將全部行進行合併，但不合並到site_id以及edu_age_15up_total\n",
    "datata=datata.groupby(['site_id'])['ungraduated_sum','graduated_sum','edu_age_15up_total', 'edu_doctor_ungraduated_m', 'edu_doctor_ungraduated_f', 'edu_master_ungraduated_m', 'edu_master_ungraduated_f', 'edu_university_ungraduated_m', 'edu_university_ungraduated_f', 'edu_juniorcollege_2ys_ungraduated_m', 'edu_juniorcollege_2ys_ungraduated_f', 'edu_juniorcollege_5ys_final2y_ungraduated_m', 'edu_juniorcollege_5ys_final2y_ungraduated_f', 'edu_senior_ungraduated_m', 'edu_senior_ungraduated_f', 'edu_seniorvocational_ungraduated_m', 'edu_seniorvocational_ungraduated_f', 'edu_juniorcollege_5ys_first3y_ungraduated_m', 'edu_juniorcollege_5ys_first3y_ungraduated_f', 'edu_junior_ungraduated_m', 'edu_junior_ungraduated_f', 'edu_juniorvocational_ungraduated_m', 'edu_juniorvocational_ungraduated_f', 'edu_primary_ungraduated_m', 'edu_primary_ungraduated_f', 'edu_illiterate_m', 'edu_illiterate_f'].sum().reset_index()\n",
    "# datata"
   ]
  },
  {
   "cell_type": "code",
   "execution_count": 72,
   "id": "1c13564c",
   "metadata": {
    "scrolled": false
   },
   "outputs": [],
   "source": [
    "#9\n",
    "#將該地區肄業人數的比率進行排名\n",
    "datata['rate']=datata['ungraduated_sum']/datata['edu_age_15up_total']\n",
    "datata['graduated_rate']=datata['graduated_sum']/datata['edu_age_15up_total']\n",
    "datata[\"rate_percentage\"] = datata[\"rate\"].apply(lambda x: format(x,\".2%\"))\n",
    "datata[\"graduated_rate_percentage\"] = datata[\"graduated_rate\"].apply(lambda x: format(x,\".2%\"))\n",
    "# datata"
   ]
  },
  {
   "cell_type": "code",
   "execution_count": 73,
   "id": "98fe08ef",
   "metadata": {},
   "outputs": [],
   "source": [
    "#10\n",
    "#排名後，由小到大進行排列\n",
    "datata['ungraduated_sum_rank'] = datata.rate.rank(method='first',ascending=True)\n",
    "\n",
    "# datata=datata.groupby(['site_id'])['ungraduated_sum','rate',\"rate_percentage\",'graduated_rate_percentage','ungraduated_sum_rank','edu_age_15up_total', 'edu_doctor_ungraduated_m', 'edu_doctor_ungraduated_f', 'edu_master_ungraduated_m', 'edu_master_ungraduated_f', 'edu_university_ungraduated_m', 'edu_university_ungraduated_f', 'edu_juniorcollege_2ys_ungraduated_m', 'edu_juniorcollege_2ys_ungraduated_f', 'edu_juniorcollege_5ys_final2y_ungraduated_m', 'edu_juniorcollege_5ys_final2y_ungraduated_f', 'edu_senior_ungraduated_m', 'edu_senior_ungraduated_f', 'edu_seniorvocational_ungraduated_m', 'edu_seniorvocational_ungraduated_f', 'edu_juniorcollege_5ys_first3y_ungraduated_m', 'edu_juniorcollege_5ys_first3y_ungraduated_f', 'edu_junior_ungraduated_m', 'edu_junior_ungraduated_f', 'edu_juniorvocational_ungraduated_m', 'edu_juniorvocational_ungraduated_f', 'edu_primary_ungraduated_m', 'edu_primary_ungraduated_f', 'edu_illiterate_m', 'edu_illiterate_f'].sum().reset_index()\n",
    "\n",
    "datata.sort_values(\"ungraduated_sum_rank\",inplace=True)\n",
    "datata['graduated_rate_percentage_rank'] = datata.graduated_rate_percentage.rank(method='first',ascending=False)\n",
    "# datata"
   ]
  },
  {
   "cell_type": "code",
   "execution_count": 74,
   "id": "1c40b92c",
   "metadata": {},
   "outputs": [],
   "source": [
    "#11\n",
    "#將data中台北/新北受教育人口數排名和台北/新北受教育百分比排名抓出來\n",
    "data = data.rename(columns={'rate': '台北/新北曾經受教育百分比'})\n",
    "\n",
    "df1=data[['site_id','台北/新北受教育人口數排名','台北/新北曾經受教育百分比','台北/新北曾經受過教育百分比排名']]"
   ]
  },
  {
   "cell_type": "code",
   "execution_count": 75,
   "id": "e546a58b",
   "metadata": {},
   "outputs": [],
   "source": [
    "#12\n",
    "#更改datata欄位名稱\n",
    "# datata = datata.rename(columns={'ungraduated_sum_rank': '台北/新北受教育且畢業比例排名'})\n",
    "# 'graduated_rate_percentage'\n",
    "datata = datata.rename(columns={'graduated_rate': '台北/新北受教育且畢業比例'})\n",
    "datata = datata.rename(columns={'graduated_rate_percentage_rank': '台北/新北受教育且畢業比例排名'})\n",
    "\n",
    "# datata"
   ]
  },
  {
   "cell_type": "code",
   "execution_count": 76,
   "id": "c36690db",
   "metadata": {},
   "outputs": [],
   "source": [
    "#13\n",
    "#將data中台北/新北肄業比例排名抓出來\n",
    "# df2=datata[['site_id','台北/新北肄業比例排名', '台北/新北受教育比例','台北/新北受教育比例排名']]\n",
    "df2=datata[['site_id','台北/新北受教育且畢業比例', '台北/新北受教育且畢業比例排名']]"
   ]
  },
  {
   "cell_type": "code",
   "execution_count": 77,
   "id": "60b05857",
   "metadata": {},
   "outputs": [],
   "source": [
    "#14\n",
    "#將df1和df2進行合併，how=\"left\"，以df1為基準，而df1與df2以site_id做交集，進行合併，\n",
    "df = pd.merge(df1, df2, how='left', on='site_id') \n",
    "# df"
   ]
  },
  {
   "cell_type": "code",
   "execution_count": 78,
   "id": "2006b406",
   "metadata": {},
   "outputs": [
    {
     "data": {
      "text/html": [
       "<div>\n",
       "<style scoped>\n",
       "    .dataframe tbody tr th:only-of-type {\n",
       "        vertical-align: middle;\n",
       "    }\n",
       "\n",
       "    .dataframe tbody tr th {\n",
       "        vertical-align: top;\n",
       "    }\n",
       "\n",
       "    .dataframe thead th {\n",
       "        text-align: right;\n",
       "    }\n",
       "</style>\n",
       "<table border=\"1\" class=\"dataframe\">\n",
       "  <thead>\n",
       "    <tr style=\"text-align: right;\">\n",
       "      <th></th>\n",
       "      <th>site_id</th>\n",
       "      <th>台北/新北受教育人口數排名</th>\n",
       "      <th>台北/新北曾經受教育百分比</th>\n",
       "      <th>台北/新北曾經受過教育百分比排名</th>\n",
       "      <th>台北/新北受教育且畢業比例</th>\n",
       "      <th>台北/新北受教育且畢業比例排名</th>\n",
       "    </tr>\n",
       "  </thead>\n",
       "  <tbody>\n",
       "    <tr>\n",
       "      <th>38</th>\n",
       "      <td>臺北市松山區</td>\n",
       "      <td>17.0</td>\n",
       "      <td>0.840217</td>\n",
       "      <td>39.0</td>\n",
       "      <td>0.847268</td>\n",
       "      <td>1.0</td>\n",
       "    </tr>\n",
       "    <tr>\n",
       "      <th>39</th>\n",
       "      <td>臺北市大安區</td>\n",
       "      <td>6.0</td>\n",
       "      <td>0.835717</td>\n",
       "      <td>40.0</td>\n",
       "      <td>0.846945</td>\n",
       "      <td>2.0</td>\n",
       "    </tr>\n",
       "    <tr>\n",
       "      <th>24</th>\n",
       "      <td>臺北市中山區</td>\n",
       "      <td>12.0</td>\n",
       "      <td>0.868403</td>\n",
       "      <td>25.0</td>\n",
       "      <td>0.842679</td>\n",
       "      <td>3.0</td>\n",
       "    </tr>\n",
       "    <tr>\n",
       "      <th>25</th>\n",
       "      <td>臺北市信義區</td>\n",
       "      <td>14.0</td>\n",
       "      <td>0.868235</td>\n",
       "      <td>26.0</td>\n",
       "      <td>0.837782</td>\n",
       "      <td>4.0</td>\n",
       "    </tr>\n",
       "    <tr>\n",
       "      <th>20</th>\n",
       "      <td>新北市永和區</td>\n",
       "      <td>13.0</td>\n",
       "      <td>0.877472</td>\n",
       "      <td>21.0</td>\n",
       "      <td>0.836088</td>\n",
       "      <td>5.0</td>\n",
       "    </tr>\n",
       "    <tr>\n",
       "      <th>37</th>\n",
       "      <td>臺北市內湖區</td>\n",
       "      <td>8.0</td>\n",
       "      <td>0.849633</td>\n",
       "      <td>38.0</td>\n",
       "      <td>0.834888</td>\n",
       "      <td>6.0</td>\n",
       "    </tr>\n",
       "    <tr>\n",
       "      <th>40</th>\n",
       "      <td>臺北市中正區</td>\n",
       "      <td>21.0</td>\n",
       "      <td>0.825966</td>\n",
       "      <td>41.0</td>\n",
       "      <td>0.834485</td>\n",
       "      <td>7.0</td>\n",
       "    </tr>\n",
       "    <tr>\n",
       "      <th>29</th>\n",
       "      <td>臺北市士林區</td>\n",
       "      <td>7.0</td>\n",
       "      <td>0.864008</td>\n",
       "      <td>30.0</td>\n",
       "      <td>0.830025</td>\n",
       "      <td>8.0</td>\n",
       "    </tr>\n",
       "    <tr>\n",
       "      <th>8</th>\n",
       "      <td>新北市新店區</td>\n",
       "      <td>5.0</td>\n",
       "      <td>0.905570</td>\n",
       "      <td>9.0</td>\n",
       "      <td>0.828900</td>\n",
       "      <td>9.0</td>\n",
       "    </tr>\n",
       "    <tr>\n",
       "      <th>32</th>\n",
       "      <td>臺北市大同區</td>\n",
       "      <td>22.0</td>\n",
       "      <td>0.858884</td>\n",
       "      <td>33.0</td>\n",
       "      <td>0.822867</td>\n",
       "      <td>10.0</td>\n",
       "    </tr>\n",
       "    <tr>\n",
       "      <th>33</th>\n",
       "      <td>臺北市北投區</td>\n",
       "      <td>10.0</td>\n",
       "      <td>0.857698</td>\n",
       "      <td>34.0</td>\n",
       "      <td>0.822402</td>\n",
       "      <td>11.0</td>\n",
       "    </tr>\n",
       "    <tr>\n",
       "      <th>35</th>\n",
       "      <td>臺北市文山區</td>\n",
       "      <td>9.0</td>\n",
       "      <td>0.857230</td>\n",
       "      <td>36.0</td>\n",
       "      <td>0.821741</td>\n",
       "      <td>12.0</td>\n",
       "    </tr>\n",
       "    <tr>\n",
       "      <th>27</th>\n",
       "      <td>臺北市南港區</td>\n",
       "      <td>23.0</td>\n",
       "      <td>0.864932</td>\n",
       "      <td>28.0</td>\n",
       "      <td>0.820297</td>\n",
       "      <td>13.0</td>\n",
       "    </tr>\n",
       "    <tr>\n",
       "      <th>19</th>\n",
       "      <td>臺北市萬華區</td>\n",
       "      <td>18.0</td>\n",
       "      <td>0.882121</td>\n",
       "      <td>20.0</td>\n",
       "      <td>0.820136</td>\n",
       "      <td>14.0</td>\n",
       "    </tr>\n",
       "    <tr>\n",
       "      <th>14</th>\n",
       "      <td>新北市中和區</td>\n",
       "      <td>2.0</td>\n",
       "      <td>0.891891</td>\n",
       "      <td>15.0</td>\n",
       "      <td>0.818926</td>\n",
       "      <td>15.0</td>\n",
       "    </tr>\n",
       "    <tr>\n",
       "      <th>6</th>\n",
       "      <td>新北市汐止區</td>\n",
       "      <td>15.0</td>\n",
       "      <td>0.908826</td>\n",
       "      <td>7.0</td>\n",
       "      <td>0.814494</td>\n",
       "      <td>16.0</td>\n",
       "    </tr>\n",
       "    <tr>\n",
       "      <th>23</th>\n",
       "      <td>新北市板橋區</td>\n",
       "      <td>1.0</td>\n",
       "      <td>0.869126</td>\n",
       "      <td>24.0</td>\n",
       "      <td>0.813803</td>\n",
       "      <td>17.0</td>\n",
       "    </tr>\n",
       "    <tr>\n",
       "      <th>9</th>\n",
       "      <td>新北市淡水區</td>\n",
       "      <td>19.0</td>\n",
       "      <td>0.905077</td>\n",
       "      <td>10.0</td>\n",
       "      <td>0.809945</td>\n",
       "      <td>18.0</td>\n",
       "    </tr>\n",
       "    <tr>\n",
       "      <th>17</th>\n",
       "      <td>新北市三重區</td>\n",
       "      <td>4.0</td>\n",
       "      <td>0.886542</td>\n",
       "      <td>18.0</td>\n",
       "      <td>0.809402</td>\n",
       "      <td>19.0</td>\n",
       "    </tr>\n",
       "    <tr>\n",
       "      <th>18</th>\n",
       "      <td>新北市土城區</td>\n",
       "      <td>11.0</td>\n",
       "      <td>0.882188</td>\n",
       "      <td>19.0</td>\n",
       "      <td>0.805606</td>\n",
       "      <td>20.0</td>\n",
       "    </tr>\n",
       "    <tr>\n",
       "      <th>34</th>\n",
       "      <td>新北市泰山區</td>\n",
       "      <td>28.0</td>\n",
       "      <td>0.857277</td>\n",
       "      <td>35.0</td>\n",
       "      <td>0.804845</td>\n",
       "      <td>21.0</td>\n",
       "    </tr>\n",
       "    <tr>\n",
       "      <th>26</th>\n",
       "      <td>新北市新莊區</td>\n",
       "      <td>3.0</td>\n",
       "      <td>0.866414</td>\n",
       "      <td>27.0</td>\n",
       "      <td>0.802888</td>\n",
       "      <td>22.0</td>\n",
       "    </tr>\n",
       "    <tr>\n",
       "      <th>28</th>\n",
       "      <td>新北市樹林區</td>\n",
       "      <td>20.0</td>\n",
       "      <td>0.864772</td>\n",
       "      <td>29.0</td>\n",
       "      <td>0.800069</td>\n",
       "      <td>23.0</td>\n",
       "    </tr>\n",
       "    <tr>\n",
       "      <th>36</th>\n",
       "      <td>新北市林口區</td>\n",
       "      <td>25.0</td>\n",
       "      <td>0.856046</td>\n",
       "      <td>37.0</td>\n",
       "      <td>0.799962</td>\n",
       "      <td>24.0</td>\n",
       "    </tr>\n",
       "    <tr>\n",
       "      <th>5</th>\n",
       "      <td>新北市深坑區</td>\n",
       "      <td>31.0</td>\n",
       "      <td>0.909833</td>\n",
       "      <td>6.0</td>\n",
       "      <td>0.796567</td>\n",
       "      <td>25.0</td>\n",
       "    </tr>\n",
       "    <tr>\n",
       "      <th>30</th>\n",
       "      <td>新北市三峽區</td>\n",
       "      <td>24.0</td>\n",
       "      <td>0.859382</td>\n",
       "      <td>31.0</td>\n",
       "      <td>0.795561</td>\n",
       "      <td>26.0</td>\n",
       "    </tr>\n",
       "    <tr>\n",
       "      <th>2</th>\n",
       "      <td>新北市坪林區</td>\n",
       "      <td>39.0</td>\n",
       "      <td>0.926924</td>\n",
       "      <td>3.0</td>\n",
       "      <td>0.795279</td>\n",
       "      <td>27.0</td>\n",
       "    </tr>\n",
       "    <tr>\n",
       "      <th>22</th>\n",
       "      <td>新北市蘆洲區</td>\n",
       "      <td>16.0</td>\n",
       "      <td>0.873510</td>\n",
       "      <td>23.0</td>\n",
       "      <td>0.793801</td>\n",
       "      <td>28.0</td>\n",
       "    </tr>\n",
       "    <tr>\n",
       "      <th>15</th>\n",
       "      <td>新北市五股區</td>\n",
       "      <td>26.0</td>\n",
       "      <td>0.891668</td>\n",
       "      <td>16.0</td>\n",
       "      <td>0.792812</td>\n",
       "      <td>29.0</td>\n",
       "    </tr>\n",
       "    <tr>\n",
       "      <th>21</th>\n",
       "      <td>新北市鶯歌區</td>\n",
       "      <td>27.0</td>\n",
       "      <td>0.877275</td>\n",
       "      <td>22.0</td>\n",
       "      <td>0.789166</td>\n",
       "      <td>30.0</td>\n",
       "    </tr>\n",
       "    <tr>\n",
       "      <th>13</th>\n",
       "      <td>新北市石門區</td>\n",
       "      <td>36.0</td>\n",
       "      <td>0.896129</td>\n",
       "      <td>14.0</td>\n",
       "      <td>0.786501</td>\n",
       "      <td>31.0</td>\n",
       "    </tr>\n",
       "    <tr>\n",
       "      <th>10</th>\n",
       "      <td>新北市三芝區</td>\n",
       "      <td>32.0</td>\n",
       "      <td>0.904996</td>\n",
       "      <td>11.0</td>\n",
       "      <td>0.785624</td>\n",
       "      <td>32.0</td>\n",
       "    </tr>\n",
       "    <tr>\n",
       "      <th>16</th>\n",
       "      <td>新北市八里區</td>\n",
       "      <td>30.0</td>\n",
       "      <td>0.890152</td>\n",
       "      <td>17.0</td>\n",
       "      <td>0.778885</td>\n",
       "      <td>33.0</td>\n",
       "    </tr>\n",
       "    <tr>\n",
       "      <th>3</th>\n",
       "      <td>新北市石碇區</td>\n",
       "      <td>38.0</td>\n",
       "      <td>0.924938</td>\n",
       "      <td>4.0</td>\n",
       "      <td>0.776720</td>\n",
       "      <td>34.0</td>\n",
       "    </tr>\n",
       "    <tr>\n",
       "      <th>0</th>\n",
       "      <td>新北市平溪區</td>\n",
       "      <td>41.0</td>\n",
       "      <td>0.932507</td>\n",
       "      <td>1.0</td>\n",
       "      <td>0.775036</td>\n",
       "      <td>35.0</td>\n",
       "    </tr>\n",
       "    <tr>\n",
       "      <th>7</th>\n",
       "      <td>新北市萬里區</td>\n",
       "      <td>33.0</td>\n",
       "      <td>0.906839</td>\n",
       "      <td>8.0</td>\n",
       "      <td>0.767881</td>\n",
       "      <td>36.0</td>\n",
       "    </tr>\n",
       "    <tr>\n",
       "      <th>11</th>\n",
       "      <td>新北市金山區</td>\n",
       "      <td>34.0</td>\n",
       "      <td>0.901578</td>\n",
       "      <td>12.0</td>\n",
       "      <td>0.764269</td>\n",
       "      <td>37.0</td>\n",
       "    </tr>\n",
       "    <tr>\n",
       "      <th>12</th>\n",
       "      <td>新北市瑞芳區</td>\n",
       "      <td>29.0</td>\n",
       "      <td>0.901561</td>\n",
       "      <td>13.0</td>\n",
       "      <td>0.760626</td>\n",
       "      <td>38.0</td>\n",
       "    </tr>\n",
       "    <tr>\n",
       "      <th>1</th>\n",
       "      <td>新北市貢寮區</td>\n",
       "      <td>35.0</td>\n",
       "      <td>0.928876</td>\n",
       "      <td>2.0</td>\n",
       "      <td>0.760223</td>\n",
       "      <td>39.0</td>\n",
       "    </tr>\n",
       "    <tr>\n",
       "      <th>4</th>\n",
       "      <td>新北市雙溪區</td>\n",
       "      <td>37.0</td>\n",
       "      <td>0.918781</td>\n",
       "      <td>5.0</td>\n",
       "      <td>0.749811</td>\n",
       "      <td>40.0</td>\n",
       "    </tr>\n",
       "    <tr>\n",
       "      <th>31</th>\n",
       "      <td>新北市烏來區</td>\n",
       "      <td>40.0</td>\n",
       "      <td>0.859216</td>\n",
       "      <td>32.0</td>\n",
       "      <td>0.738238</td>\n",
       "      <td>41.0</td>\n",
       "    </tr>\n",
       "  </tbody>\n",
       "</table>\n",
       "</div>"
      ],
      "text/plain": [
       "   site_id  台北/新北受教育人口數排名  台北/新北曾經受教育百分比  台北/新北曾經受過教育百分比排名  台北/新北受教育且畢業比例  \\\n",
       "38  臺北市松山區           17.0       0.840217              39.0       0.847268   \n",
       "39  臺北市大安區            6.0       0.835717              40.0       0.846945   \n",
       "24  臺北市中山區           12.0       0.868403              25.0       0.842679   \n",
       "25  臺北市信義區           14.0       0.868235              26.0       0.837782   \n",
       "20  新北市永和區           13.0       0.877472              21.0       0.836088   \n",
       "37  臺北市內湖區            8.0       0.849633              38.0       0.834888   \n",
       "40  臺北市中正區           21.0       0.825966              41.0       0.834485   \n",
       "29  臺北市士林區            7.0       0.864008              30.0       0.830025   \n",
       "8   新北市新店區            5.0       0.905570               9.0       0.828900   \n",
       "32  臺北市大同區           22.0       0.858884              33.0       0.822867   \n",
       "33  臺北市北投區           10.0       0.857698              34.0       0.822402   \n",
       "35  臺北市文山區            9.0       0.857230              36.0       0.821741   \n",
       "27  臺北市南港區           23.0       0.864932              28.0       0.820297   \n",
       "19  臺北市萬華區           18.0       0.882121              20.0       0.820136   \n",
       "14  新北市中和區            2.0       0.891891              15.0       0.818926   \n",
       "6   新北市汐止區           15.0       0.908826               7.0       0.814494   \n",
       "23  新北市板橋區            1.0       0.869126              24.0       0.813803   \n",
       "9   新北市淡水區           19.0       0.905077              10.0       0.809945   \n",
       "17  新北市三重區            4.0       0.886542              18.0       0.809402   \n",
       "18  新北市土城區           11.0       0.882188              19.0       0.805606   \n",
       "34  新北市泰山區           28.0       0.857277              35.0       0.804845   \n",
       "26  新北市新莊區            3.0       0.866414              27.0       0.802888   \n",
       "28  新北市樹林區           20.0       0.864772              29.0       0.800069   \n",
       "36  新北市林口區           25.0       0.856046              37.0       0.799962   \n",
       "5   新北市深坑區           31.0       0.909833               6.0       0.796567   \n",
       "30  新北市三峽區           24.0       0.859382              31.0       0.795561   \n",
       "2   新北市坪林區           39.0       0.926924               3.0       0.795279   \n",
       "22  新北市蘆洲區           16.0       0.873510              23.0       0.793801   \n",
       "15  新北市五股區           26.0       0.891668              16.0       0.792812   \n",
       "21  新北市鶯歌區           27.0       0.877275              22.0       0.789166   \n",
       "13  新北市石門區           36.0       0.896129              14.0       0.786501   \n",
       "10  新北市三芝區           32.0       0.904996              11.0       0.785624   \n",
       "16  新北市八里區           30.0       0.890152              17.0       0.778885   \n",
       "3   新北市石碇區           38.0       0.924938               4.0       0.776720   \n",
       "0   新北市平溪區           41.0       0.932507               1.0       0.775036   \n",
       "7   新北市萬里區           33.0       0.906839               8.0       0.767881   \n",
       "11  新北市金山區           34.0       0.901578              12.0       0.764269   \n",
       "12  新北市瑞芳區           29.0       0.901561              13.0       0.760626   \n",
       "1   新北市貢寮區           35.0       0.928876               2.0       0.760223   \n",
       "4   新北市雙溪區           37.0       0.918781               5.0       0.749811   \n",
       "31  新北市烏來區           40.0       0.859216              32.0       0.738238   \n",
       "\n",
       "    台北/新北受教育且畢業比例排名  \n",
       "38              1.0  \n",
       "39              2.0  \n",
       "24              3.0  \n",
       "25              4.0  \n",
       "20              5.0  \n",
       "37              6.0  \n",
       "40              7.0  \n",
       "29              8.0  \n",
       "8               9.0  \n",
       "32             10.0  \n",
       "33             11.0  \n",
       "35             12.0  \n",
       "27             13.0  \n",
       "19             14.0  \n",
       "14             15.0  \n",
       "6              16.0  \n",
       "23             17.0  \n",
       "9              18.0  \n",
       "17             19.0  \n",
       "18             20.0  \n",
       "34             21.0  \n",
       "26             22.0  \n",
       "28             23.0  \n",
       "36             24.0  \n",
       "5              25.0  \n",
       "30             26.0  \n",
       "2              27.0  \n",
       "22             28.0  \n",
       "15             29.0  \n",
       "21             30.0  \n",
       "13             31.0  \n",
       "10             32.0  \n",
       "16             33.0  \n",
       "3              34.0  \n",
       "0              35.0  \n",
       "7              36.0  \n",
       "11             37.0  \n",
       "12             38.0  \n",
       "1              39.0  \n",
       "4              40.0  \n",
       "31             41.0  "
      ]
     },
     "execution_count": 78,
     "metadata": {},
     "output_type": "execute_result"
    }
   ],
   "source": [
    "df.sort_values(\"台北/新北受教育且畢業比例排名\",inplace=True)\n",
    "df"
   ]
  },
  {
   "cell_type": "markdown",
   "id": "31b864b6",
   "metadata": {},
   "source": [
    "# 小結論\n",
    "台北市大部分區域，受教育人數佔該區人數比例相較於新北市各區較低，但畢業比例較高，新北市則是相反，雖然曾受過教育的比例較高，但能夠順利畢業的比例相較於台北市較低。\n",
    "猜測台北市受過教育比例較低是因為台北市各區小於15歲佔整個年齡層的比例較高，也就是台北市小孩的比例較高，由於小於15歲的人數較高，導致15歲以上的教育人數佔全部人數較低。"
   ]
  },
  {
   "cell_type": "markdown",
   "id": "87852c96",
   "metadata": {},
   "source": [
    "#  延伸\n",
    "將新北/台北市地圖匯入，看是否能夠合併變成一個立體圖表，例如有三種顏色圖，分別為該地區受教育人口數、曾受教育比率以及畢業比例，並以顏色深至淺來表示各地區的情況。"
   ]
  },
  {
   "cell_type": "code",
   "execution_count": 79,
   "id": "f0c3a68e",
   "metadata": {},
   "outputs": [
    {
     "data": {
      "application/vnd.plotly.v1+json": {
       "config": {
        "plotlyServerURL": "https://plot.ly"
       },
       "data": [
        {
         "hovertemplate": "台北/新北曾經受教育百分比=%{x}<br>台北/新北受教育且畢業比例=%{y}<extra></extra>",
         "legendgroup": "",
         "marker": {
          "color": "#636efa",
          "symbol": "circle"
         },
         "mode": "markers",
         "name": "",
         "orientation": "v",
         "showlegend": false,
         "type": "scatter",
         "x": [
          0.840217423327343,
          0.8357172393359142,
          0.8684031879815916,
          0.8682351868317261,
          0.8774715914239629,
          0.8496325746420408,
          0.8259660969619274,
          0.8640080063937986,
          0.9055703703703704,
          0.8588843385948869,
          0.8576978866531495,
          0.8572302544050063,
          0.8649315159796047,
          0.8821207114811079,
          0.8918905832766431,
          0.9088264725503277,
          0.8691255835156493,
          0.9050770413449647,
          0.8865417588280695,
          0.8821877141859986,
          0.8572772101062478,
          0.8664138912448002,
          0.8647720106982104,
          0.8560459004002542,
          0.9098333052702475,
          0.8593816978446872,
          0.9269236493525822,
          0.8735102777846488,
          0.8916681764652595,
          0.8772753896156099,
          0.8961293066780094,
          0.9049964813511612,
          0.890152376620423,
          0.9249375575128171,
          0.9325071918566055,
          0.9068391358194579,
          0.9015779369761671,
          0.9015612327656123,
          0.9288755321813174,
          0.91878113775924,
          0.8592164819728422
         ],
         "xaxis": "x",
         "y": [
          0.8472682433656504,
          0.8469453351151075,
          0.842679404463982,
          0.837782340862423,
          0.8360880902589524,
          0.8348883176046777,
          0.8344846133159168,
          0.8300254994494902,
          0.8288998680321522,
          0.8228666129674379,
          0.8224020423304317,
          0.8217411865864145,
          0.8202974493334361,
          0.8201359667258531,
          0.8189258075986613,
          0.8144939738877465,
          0.81380327178263,
          0.8099449758115145,
          0.8094024984516144,
          0.8056062649844377,
          0.8048447831114537,
          0.8028884251858392,
          0.8000691475986925,
          0.7999618726546666,
          0.7965670398815583,
          0.7955606544293695,
          0.7952793834296724,
          0.7938006535762628,
          0.7928122420471141,
          0.7891656957335672,
          0.7865008543763053,
          0.7856240279937792,
          0.7788849145517516,
          0.7767197271176804,
          0.7750355956336022,
          0.7678806272129489,
          0.7642690210334978,
          0.7606263353199145,
          0.7602228812797699,
          0.7498108448928121,
          0.7382379654859219
         ],
         "yaxis": "y"
        },
        {
         "alignmentgroup": "True",
         "bingroup": "x",
         "hovertemplate": "台北/新北曾經受教育百分比=%{x}<br>count=%{y}<extra></extra>",
         "legendgroup": "",
         "marker": {
          "color": "#636efa"
         },
         "name": "",
         "offsetgroup": "",
         "opacity": 0.5,
         "showlegend": false,
         "type": "histogram",
         "x": [
          0.840217423327343,
          0.8357172393359142,
          0.8684031879815916,
          0.8682351868317261,
          0.8774715914239629,
          0.8496325746420408,
          0.8259660969619274,
          0.8640080063937986,
          0.9055703703703704,
          0.8588843385948869,
          0.8576978866531495,
          0.8572302544050063,
          0.8649315159796047,
          0.8821207114811079,
          0.8918905832766431,
          0.9088264725503277,
          0.8691255835156493,
          0.9050770413449647,
          0.8865417588280695,
          0.8821877141859986,
          0.8572772101062478,
          0.8664138912448002,
          0.8647720106982104,
          0.8560459004002542,
          0.9098333052702475,
          0.8593816978446872,
          0.9269236493525822,
          0.8735102777846488,
          0.8916681764652595,
          0.8772753896156099,
          0.8961293066780094,
          0.9049964813511612,
          0.890152376620423,
          0.9249375575128171,
          0.9325071918566055,
          0.9068391358194579,
          0.9015779369761671,
          0.9015612327656123,
          0.9288755321813174,
          0.91878113775924,
          0.8592164819728422
         ],
         "xaxis": "x3",
         "yaxis": "y3"
        },
        {
         "alignmentgroup": "True",
         "boxpoints": "all",
         "fillcolor": "rgba(255,255,255,0)",
         "hoveron": "points",
         "hovertemplate": "台北/新北受教育且畢業比例=%{y}<extra></extra>",
         "jitter": 0,
         "legendgroup": "",
         "line": {
          "color": "rgba(255,255,255,0)"
         },
         "marker": {
          "color": "#636efa",
          "symbol": "line-ew-open"
         },
         "name": "",
         "offsetgroup": "",
         "showlegend": false,
         "type": "box",
         "xaxis": "x2",
         "y": [
          0.8472682433656504,
          0.8469453351151075,
          0.842679404463982,
          0.837782340862423,
          0.8360880902589524,
          0.8348883176046777,
          0.8344846133159168,
          0.8300254994494902,
          0.8288998680321522,
          0.8228666129674379,
          0.8224020423304317,
          0.8217411865864145,
          0.8202974493334361,
          0.8201359667258531,
          0.8189258075986613,
          0.8144939738877465,
          0.81380327178263,
          0.8099449758115145,
          0.8094024984516144,
          0.8056062649844377,
          0.8048447831114537,
          0.8028884251858392,
          0.8000691475986925,
          0.7999618726546666,
          0.7965670398815583,
          0.7955606544293695,
          0.7952793834296724,
          0.7938006535762628,
          0.7928122420471141,
          0.7891656957335672,
          0.7865008543763053,
          0.7856240279937792,
          0.7788849145517516,
          0.7767197271176804,
          0.7750355956336022,
          0.7678806272129489,
          0.7642690210334978,
          0.7606263353199145,
          0.7602228812797699,
          0.7498108448928121,
          0.7382379654859219
         ],
         "yaxis": "y2"
        },
        {
         "hovertemplate": "<b>OLS trendline</b><br>台北/新北受教育且畢業比例 = -0.603908 * 台北/新北曾經受教育百分比 + 1.3357<br>R<sup>2</sup>=0.350287<br><br>台北/新北曾經受教育百分比=%{x}<br>台北/新北受教育且畢業比例=%{y} <b>(trend)</b><extra></extra>",
         "legendgroup": "",
         "marker": {
          "color": "#636efa",
          "symbol": "circle"
         },
         "mode": "lines",
         "name": "",
         "showlegend": false,
         "type": "scatter",
         "x": [
          0.8259660969619274,
          0.8357172393359142,
          0.840217423327343,
          0.8496325746420408,
          0.8560459004002542,
          0.8572302544050063,
          0.8572772101062478,
          0.8576978866531495,
          0.8588843385948869,
          0.8592164819728422,
          0.8593816978446872,
          0.8640080063937986,
          0.8647720106982104,
          0.8649315159796047,
          0.8664138912448002,
          0.8682351868317261,
          0.8684031879815916,
          0.8691255835156493,
          0.8735102777846488,
          0.8772753896156099,
          0.8774715914239629,
          0.8821207114811079,
          0.8821877141859986,
          0.8865417588280695,
          0.890152376620423,
          0.8916681764652595,
          0.8918905832766431,
          0.8961293066780094,
          0.9015612327656123,
          0.9015779369761671,
          0.9049964813511612,
          0.9050770413449647,
          0.9055703703703704,
          0.9068391358194579,
          0.9088264725503277,
          0.9098333052702475,
          0.91878113775924,
          0.9249375575128171,
          0.9269236493525822,
          0.9288755321813174,
          0.9325071918566055
         ],
         "xaxis": "x",
         "y": [
          0.8368939179267191,
          0.8310051241082922,
          0.8282874265653658,
          0.8226015404676041,
          0.8187284811241906,
          0.8180132401529769,
          0.8179848832248751,
          0.817730833252683,
          0.8170143253203404,
          0.8168137412455808,
          0.8167139660430957,
          0.813920100858764,
          0.813458712474458,
          0.8133623859437751,
          0.8124671675207973,
          0.8113672723718526,
          0.811265815117423,
          0.8108295546063709,
          0.8081816022417476,
          0.8059078207271839,
          0.8057893328668,
          0.8029816916281,
          0.8029412281522071,
          0.8003117853454051,
          0.7981313040314377,
          0.7972159002342316,
          0.7970815869603791,
          0.7945217875844028,
          0.7912414034468314,
          0.7912313156388512,
          0.789166829016526,
          0.7891181781841079,
          0.7888202527920011,
          0.7880540350662142,
          0.7868538663262828,
          0.7862458318960738,
          0.7808421634202587,
          0.7771242516927855,
          0.7759248347526702,
          0.7747460769112492,
          0.7725528882338365
         ],
         "yaxis": "y"
        }
       ],
       "layout": {
        "barmode": "overlay",
        "legend": {
         "tracegroupgap": 0
        },
        "margin": {
         "t": 60
        },
        "template": {
         "data": {
          "bar": [
           {
            "error_x": {
             "color": "#2a3f5f"
            },
            "error_y": {
             "color": "#2a3f5f"
            },
            "marker": {
             "line": {
              "color": "#E5ECF6",
              "width": 0.5
             },
             "pattern": {
              "fillmode": "overlay",
              "size": 10,
              "solidity": 0.2
             }
            },
            "type": "bar"
           }
          ],
          "barpolar": [
           {
            "marker": {
             "line": {
              "color": "#E5ECF6",
              "width": 0.5
             },
             "pattern": {
              "fillmode": "overlay",
              "size": 10,
              "solidity": 0.2
             }
            },
            "type": "barpolar"
           }
          ],
          "carpet": [
           {
            "aaxis": {
             "endlinecolor": "#2a3f5f",
             "gridcolor": "white",
             "linecolor": "white",
             "minorgridcolor": "white",
             "startlinecolor": "#2a3f5f"
            },
            "baxis": {
             "endlinecolor": "#2a3f5f",
             "gridcolor": "white",
             "linecolor": "white",
             "minorgridcolor": "white",
             "startlinecolor": "#2a3f5f"
            },
            "type": "carpet"
           }
          ],
          "choropleth": [
           {
            "colorbar": {
             "outlinewidth": 0,
             "ticks": ""
            },
            "type": "choropleth"
           }
          ],
          "contour": [
           {
            "colorbar": {
             "outlinewidth": 0,
             "ticks": ""
            },
            "colorscale": [
             [
              0,
              "#0d0887"
             ],
             [
              0.1111111111111111,
              "#46039f"
             ],
             [
              0.2222222222222222,
              "#7201a8"
             ],
             [
              0.3333333333333333,
              "#9c179e"
             ],
             [
              0.4444444444444444,
              "#bd3786"
             ],
             [
              0.5555555555555556,
              "#d8576b"
             ],
             [
              0.6666666666666666,
              "#ed7953"
             ],
             [
              0.7777777777777778,
              "#fb9f3a"
             ],
             [
              0.8888888888888888,
              "#fdca26"
             ],
             [
              1,
              "#f0f921"
             ]
            ],
            "type": "contour"
           }
          ],
          "contourcarpet": [
           {
            "colorbar": {
             "outlinewidth": 0,
             "ticks": ""
            },
            "type": "contourcarpet"
           }
          ],
          "heatmap": [
           {
            "colorbar": {
             "outlinewidth": 0,
             "ticks": ""
            },
            "colorscale": [
             [
              0,
              "#0d0887"
             ],
             [
              0.1111111111111111,
              "#46039f"
             ],
             [
              0.2222222222222222,
              "#7201a8"
             ],
             [
              0.3333333333333333,
              "#9c179e"
             ],
             [
              0.4444444444444444,
              "#bd3786"
             ],
             [
              0.5555555555555556,
              "#d8576b"
             ],
             [
              0.6666666666666666,
              "#ed7953"
             ],
             [
              0.7777777777777778,
              "#fb9f3a"
             ],
             [
              0.8888888888888888,
              "#fdca26"
             ],
             [
              1,
              "#f0f921"
             ]
            ],
            "type": "heatmap"
           }
          ],
          "heatmapgl": [
           {
            "colorbar": {
             "outlinewidth": 0,
             "ticks": ""
            },
            "colorscale": [
             [
              0,
              "#0d0887"
             ],
             [
              0.1111111111111111,
              "#46039f"
             ],
             [
              0.2222222222222222,
              "#7201a8"
             ],
             [
              0.3333333333333333,
              "#9c179e"
             ],
             [
              0.4444444444444444,
              "#bd3786"
             ],
             [
              0.5555555555555556,
              "#d8576b"
             ],
             [
              0.6666666666666666,
              "#ed7953"
             ],
             [
              0.7777777777777778,
              "#fb9f3a"
             ],
             [
              0.8888888888888888,
              "#fdca26"
             ],
             [
              1,
              "#f0f921"
             ]
            ],
            "type": "heatmapgl"
           }
          ],
          "histogram": [
           {
            "marker": {
             "pattern": {
              "fillmode": "overlay",
              "size": 10,
              "solidity": 0.2
             }
            },
            "type": "histogram"
           }
          ],
          "histogram2d": [
           {
            "colorbar": {
             "outlinewidth": 0,
             "ticks": ""
            },
            "colorscale": [
             [
              0,
              "#0d0887"
             ],
             [
              0.1111111111111111,
              "#46039f"
             ],
             [
              0.2222222222222222,
              "#7201a8"
             ],
             [
              0.3333333333333333,
              "#9c179e"
             ],
             [
              0.4444444444444444,
              "#bd3786"
             ],
             [
              0.5555555555555556,
              "#d8576b"
             ],
             [
              0.6666666666666666,
              "#ed7953"
             ],
             [
              0.7777777777777778,
              "#fb9f3a"
             ],
             [
              0.8888888888888888,
              "#fdca26"
             ],
             [
              1,
              "#f0f921"
             ]
            ],
            "type": "histogram2d"
           }
          ],
          "histogram2dcontour": [
           {
            "colorbar": {
             "outlinewidth": 0,
             "ticks": ""
            },
            "colorscale": [
             [
              0,
              "#0d0887"
             ],
             [
              0.1111111111111111,
              "#46039f"
             ],
             [
              0.2222222222222222,
              "#7201a8"
             ],
             [
              0.3333333333333333,
              "#9c179e"
             ],
             [
              0.4444444444444444,
              "#bd3786"
             ],
             [
              0.5555555555555556,
              "#d8576b"
             ],
             [
              0.6666666666666666,
              "#ed7953"
             ],
             [
              0.7777777777777778,
              "#fb9f3a"
             ],
             [
              0.8888888888888888,
              "#fdca26"
             ],
             [
              1,
              "#f0f921"
             ]
            ],
            "type": "histogram2dcontour"
           }
          ],
          "mesh3d": [
           {
            "colorbar": {
             "outlinewidth": 0,
             "ticks": ""
            },
            "type": "mesh3d"
           }
          ],
          "parcoords": [
           {
            "line": {
             "colorbar": {
              "outlinewidth": 0,
              "ticks": ""
             }
            },
            "type": "parcoords"
           }
          ],
          "pie": [
           {
            "automargin": true,
            "type": "pie"
           }
          ],
          "scatter": [
           {
            "fillpattern": {
             "fillmode": "overlay",
             "size": 10,
             "solidity": 0.2
            },
            "type": "scatter"
           }
          ],
          "scatter3d": [
           {
            "line": {
             "colorbar": {
              "outlinewidth": 0,
              "ticks": ""
             }
            },
            "marker": {
             "colorbar": {
              "outlinewidth": 0,
              "ticks": ""
             }
            },
            "type": "scatter3d"
           }
          ],
          "scattercarpet": [
           {
            "marker": {
             "colorbar": {
              "outlinewidth": 0,
              "ticks": ""
             }
            },
            "type": "scattercarpet"
           }
          ],
          "scattergeo": [
           {
            "marker": {
             "colorbar": {
              "outlinewidth": 0,
              "ticks": ""
             }
            },
            "type": "scattergeo"
           }
          ],
          "scattergl": [
           {
            "marker": {
             "colorbar": {
              "outlinewidth": 0,
              "ticks": ""
             }
            },
            "type": "scattergl"
           }
          ],
          "scattermapbox": [
           {
            "marker": {
             "colorbar": {
              "outlinewidth": 0,
              "ticks": ""
             }
            },
            "type": "scattermapbox"
           }
          ],
          "scatterpolar": [
           {
            "marker": {
             "colorbar": {
              "outlinewidth": 0,
              "ticks": ""
             }
            },
            "type": "scatterpolar"
           }
          ],
          "scatterpolargl": [
           {
            "marker": {
             "colorbar": {
              "outlinewidth": 0,
              "ticks": ""
             }
            },
            "type": "scatterpolargl"
           }
          ],
          "scatterternary": [
           {
            "marker": {
             "colorbar": {
              "outlinewidth": 0,
              "ticks": ""
             }
            },
            "type": "scatterternary"
           }
          ],
          "surface": [
           {
            "colorbar": {
             "outlinewidth": 0,
             "ticks": ""
            },
            "colorscale": [
             [
              0,
              "#0d0887"
             ],
             [
              0.1111111111111111,
              "#46039f"
             ],
             [
              0.2222222222222222,
              "#7201a8"
             ],
             [
              0.3333333333333333,
              "#9c179e"
             ],
             [
              0.4444444444444444,
              "#bd3786"
             ],
             [
              0.5555555555555556,
              "#d8576b"
             ],
             [
              0.6666666666666666,
              "#ed7953"
             ],
             [
              0.7777777777777778,
              "#fb9f3a"
             ],
             [
              0.8888888888888888,
              "#fdca26"
             ],
             [
              1,
              "#f0f921"
             ]
            ],
            "type": "surface"
           }
          ],
          "table": [
           {
            "cells": {
             "fill": {
              "color": "#EBF0F8"
             },
             "line": {
              "color": "white"
             }
            },
            "header": {
             "fill": {
              "color": "#C8D4E3"
             },
             "line": {
              "color": "white"
             }
            },
            "type": "table"
           }
          ]
         },
         "layout": {
          "annotationdefaults": {
           "arrowcolor": "#2a3f5f",
           "arrowhead": 0,
           "arrowwidth": 1
          },
          "autotypenumbers": "strict",
          "coloraxis": {
           "colorbar": {
            "outlinewidth": 0,
            "ticks": ""
           }
          },
          "colorscale": {
           "diverging": [
            [
             0,
             "#8e0152"
            ],
            [
             0.1,
             "#c51b7d"
            ],
            [
             0.2,
             "#de77ae"
            ],
            [
             0.3,
             "#f1b6da"
            ],
            [
             0.4,
             "#fde0ef"
            ],
            [
             0.5,
             "#f7f7f7"
            ],
            [
             0.6,
             "#e6f5d0"
            ],
            [
             0.7,
             "#b8e186"
            ],
            [
             0.8,
             "#7fbc41"
            ],
            [
             0.9,
             "#4d9221"
            ],
            [
             1,
             "#276419"
            ]
           ],
           "sequential": [
            [
             0,
             "#0d0887"
            ],
            [
             0.1111111111111111,
             "#46039f"
            ],
            [
             0.2222222222222222,
             "#7201a8"
            ],
            [
             0.3333333333333333,
             "#9c179e"
            ],
            [
             0.4444444444444444,
             "#bd3786"
            ],
            [
             0.5555555555555556,
             "#d8576b"
            ],
            [
             0.6666666666666666,
             "#ed7953"
            ],
            [
             0.7777777777777778,
             "#fb9f3a"
            ],
            [
             0.8888888888888888,
             "#fdca26"
            ],
            [
             1,
             "#f0f921"
            ]
           ],
           "sequentialminus": [
            [
             0,
             "#0d0887"
            ],
            [
             0.1111111111111111,
             "#46039f"
            ],
            [
             0.2222222222222222,
             "#7201a8"
            ],
            [
             0.3333333333333333,
             "#9c179e"
            ],
            [
             0.4444444444444444,
             "#bd3786"
            ],
            [
             0.5555555555555556,
             "#d8576b"
            ],
            [
             0.6666666666666666,
             "#ed7953"
            ],
            [
             0.7777777777777778,
             "#fb9f3a"
            ],
            [
             0.8888888888888888,
             "#fdca26"
            ],
            [
             1,
             "#f0f921"
            ]
           ]
          },
          "colorway": [
           "#636efa",
           "#EF553B",
           "#00cc96",
           "#ab63fa",
           "#FFA15A",
           "#19d3f3",
           "#FF6692",
           "#B6E880",
           "#FF97FF",
           "#FECB52"
          ],
          "font": {
           "color": "#2a3f5f"
          },
          "geo": {
           "bgcolor": "white",
           "lakecolor": "white",
           "landcolor": "#E5ECF6",
           "showlakes": true,
           "showland": true,
           "subunitcolor": "white"
          },
          "hoverlabel": {
           "align": "left"
          },
          "hovermode": "closest",
          "mapbox": {
           "style": "light"
          },
          "paper_bgcolor": "white",
          "plot_bgcolor": "#E5ECF6",
          "polar": {
           "angularaxis": {
            "gridcolor": "white",
            "linecolor": "white",
            "ticks": ""
           },
           "bgcolor": "#E5ECF6",
           "radialaxis": {
            "gridcolor": "white",
            "linecolor": "white",
            "ticks": ""
           }
          },
          "scene": {
           "xaxis": {
            "backgroundcolor": "#E5ECF6",
            "gridcolor": "white",
            "gridwidth": 2,
            "linecolor": "white",
            "showbackground": true,
            "ticks": "",
            "zerolinecolor": "white"
           },
           "yaxis": {
            "backgroundcolor": "#E5ECF6",
            "gridcolor": "white",
            "gridwidth": 2,
            "linecolor": "white",
            "showbackground": true,
            "ticks": "",
            "zerolinecolor": "white"
           },
           "zaxis": {
            "backgroundcolor": "#E5ECF6",
            "gridcolor": "white",
            "gridwidth": 2,
            "linecolor": "white",
            "showbackground": true,
            "ticks": "",
            "zerolinecolor": "white"
           }
          },
          "shapedefaults": {
           "line": {
            "color": "#2a3f5f"
           }
          },
          "ternary": {
           "aaxis": {
            "gridcolor": "white",
            "linecolor": "white",
            "ticks": ""
           },
           "baxis": {
            "gridcolor": "white",
            "linecolor": "white",
            "ticks": ""
           },
           "bgcolor": "#E5ECF6",
           "caxis": {
            "gridcolor": "white",
            "linecolor": "white",
            "ticks": ""
           }
          },
          "title": {
           "x": 0.05
          },
          "xaxis": {
           "automargin": true,
           "gridcolor": "white",
           "linecolor": "white",
           "ticks": "",
           "title": {
            "standoff": 15
           },
           "zerolinecolor": "white",
           "zerolinewidth": 2
          },
          "yaxis": {
           "automargin": true,
           "gridcolor": "white",
           "linecolor": "white",
           "ticks": "",
           "title": {
            "standoff": 15
           },
           "zerolinecolor": "white",
           "zerolinewidth": 2
          }
         }
        },
        "xaxis": {
         "anchor": "y",
         "domain": [
          0,
          0.8358
         ],
         "title": {
          "text": "台北/新北曾經受教育百分比"
         }
        },
        "xaxis2": {
         "anchor": "y2",
         "domain": [
          0.8408,
          1
         ],
         "matches": "x2",
         "showgrid": false,
         "showline": false,
         "showticklabels": false,
         "ticks": ""
        },
        "xaxis3": {
         "anchor": "y3",
         "domain": [
          0,
          0.8358
         ],
         "matches": "x",
         "showgrid": true,
         "showticklabels": false
        },
        "xaxis4": {
         "anchor": "y4",
         "domain": [
          0.8408,
          1
         ],
         "matches": "x2",
         "showgrid": false,
         "showline": false,
         "showticklabels": false,
         "ticks": ""
        },
        "yaxis": {
         "anchor": "x",
         "domain": [
          0,
          0.7326
         ],
         "title": {
          "text": "台北/新北受教育且畢業比例"
         }
        },
        "yaxis2": {
         "anchor": "x2",
         "domain": [
          0,
          0.7326
         ],
         "matches": "y",
         "showgrid": true,
         "showticklabels": false
        },
        "yaxis3": {
         "anchor": "x3",
         "domain": [
          0.7426,
          1
         ],
         "matches": "y3",
         "showgrid": true,
         "showline": false,
         "showticklabels": false,
         "ticks": ""
        },
        "yaxis4": {
         "anchor": "x4",
         "domain": [
          0.7426,
          1
         ],
         "matches": "y3",
         "showgrid": true,
         "showline": false,
         "showticklabels": false,
         "ticks": ""
        }
       }
      },
      "text/html": [
       "<div>                            <div id=\"f3b89ff2-455f-4f2f-999f-001428742fc3\" class=\"plotly-graph-div\" style=\"height:525px; width:100%;\"></div>            <script type=\"text/javascript\">                require([\"plotly\"], function(Plotly) {                    window.PLOTLYENV=window.PLOTLYENV || {};                                    if (document.getElementById(\"f3b89ff2-455f-4f2f-999f-001428742fc3\")) {                    Plotly.newPlot(                        \"f3b89ff2-455f-4f2f-999f-001428742fc3\",                        [{\"hovertemplate\":\"\\u53f0\\u5317/\\u65b0\\u5317\\u66fe\\u7d93\\u53d7\\u6559\\u80b2\\u767e\\u5206\\u6bd4=%{x}<br>\\u53f0\\u5317/\\u65b0\\u5317\\u53d7\\u6559\\u80b2\\u4e14\\u7562\\u696d\\u6bd4\\u4f8b=%{y}<extra></extra>\",\"legendgroup\":\"\",\"marker\":{\"color\":\"#636efa\",\"symbol\":\"circle\"},\"mode\":\"markers\",\"name\":\"\",\"orientation\":\"v\",\"showlegend\":false,\"x\":[0.840217423327343,0.8357172393359142,0.8684031879815916,0.8682351868317261,0.8774715914239629,0.8496325746420408,0.8259660969619274,0.8640080063937986,0.9055703703703704,0.8588843385948869,0.8576978866531495,0.8572302544050063,0.8649315159796047,0.8821207114811079,0.8918905832766431,0.9088264725503277,0.8691255835156493,0.9050770413449647,0.8865417588280695,0.8821877141859986,0.8572772101062478,0.8664138912448002,0.8647720106982104,0.8560459004002542,0.9098333052702475,0.8593816978446872,0.9269236493525822,0.8735102777846488,0.8916681764652595,0.8772753896156099,0.8961293066780094,0.9049964813511612,0.890152376620423,0.9249375575128171,0.9325071918566055,0.9068391358194579,0.9015779369761671,0.9015612327656123,0.9288755321813174,0.91878113775924,0.8592164819728422],\"xaxis\":\"x\",\"y\":[0.8472682433656504,0.8469453351151075,0.842679404463982,0.837782340862423,0.8360880902589524,0.8348883176046777,0.8344846133159168,0.8300254994494902,0.8288998680321522,0.8228666129674379,0.8224020423304317,0.8217411865864145,0.8202974493334361,0.8201359667258531,0.8189258075986613,0.8144939738877465,0.81380327178263,0.8099449758115145,0.8094024984516144,0.8056062649844377,0.8048447831114537,0.8028884251858392,0.8000691475986925,0.7999618726546666,0.7965670398815583,0.7955606544293695,0.7952793834296724,0.7938006535762628,0.7928122420471141,0.7891656957335672,0.7865008543763053,0.7856240279937792,0.7788849145517516,0.7767197271176804,0.7750355956336022,0.7678806272129489,0.7642690210334978,0.7606263353199145,0.7602228812797699,0.7498108448928121,0.7382379654859219],\"yaxis\":\"y\",\"type\":\"scatter\"},{\"alignmentgroup\":\"True\",\"bingroup\":\"x\",\"hovertemplate\":\"\\u53f0\\u5317/\\u65b0\\u5317\\u66fe\\u7d93\\u53d7\\u6559\\u80b2\\u767e\\u5206\\u6bd4=%{x}<br>count=%{y}<extra></extra>\",\"legendgroup\":\"\",\"marker\":{\"color\":\"#636efa\"},\"name\":\"\",\"offsetgroup\":\"\",\"opacity\":0.5,\"showlegend\":false,\"x\":[0.840217423327343,0.8357172393359142,0.8684031879815916,0.8682351868317261,0.8774715914239629,0.8496325746420408,0.8259660969619274,0.8640080063937986,0.9055703703703704,0.8588843385948869,0.8576978866531495,0.8572302544050063,0.8649315159796047,0.8821207114811079,0.8918905832766431,0.9088264725503277,0.8691255835156493,0.9050770413449647,0.8865417588280695,0.8821877141859986,0.8572772101062478,0.8664138912448002,0.8647720106982104,0.8560459004002542,0.9098333052702475,0.8593816978446872,0.9269236493525822,0.8735102777846488,0.8916681764652595,0.8772753896156099,0.8961293066780094,0.9049964813511612,0.890152376620423,0.9249375575128171,0.9325071918566055,0.9068391358194579,0.9015779369761671,0.9015612327656123,0.9288755321813174,0.91878113775924,0.8592164819728422],\"xaxis\":\"x3\",\"yaxis\":\"y3\",\"type\":\"histogram\"},{\"alignmentgroup\":\"True\",\"boxpoints\":\"all\",\"fillcolor\":\"rgba(255,255,255,0)\",\"hoveron\":\"points\",\"hovertemplate\":\"\\u53f0\\u5317/\\u65b0\\u5317\\u53d7\\u6559\\u80b2\\u4e14\\u7562\\u696d\\u6bd4\\u4f8b=%{y}<extra></extra>\",\"jitter\":0,\"legendgroup\":\"\",\"line\":{\"color\":\"rgba(255,255,255,0)\"},\"marker\":{\"color\":\"#636efa\",\"symbol\":\"line-ew-open\"},\"name\":\"\",\"offsetgroup\":\"\",\"showlegend\":false,\"xaxis\":\"x2\",\"y\":[0.8472682433656504,0.8469453351151075,0.842679404463982,0.837782340862423,0.8360880902589524,0.8348883176046777,0.8344846133159168,0.8300254994494902,0.8288998680321522,0.8228666129674379,0.8224020423304317,0.8217411865864145,0.8202974493334361,0.8201359667258531,0.8189258075986613,0.8144939738877465,0.81380327178263,0.8099449758115145,0.8094024984516144,0.8056062649844377,0.8048447831114537,0.8028884251858392,0.8000691475986925,0.7999618726546666,0.7965670398815583,0.7955606544293695,0.7952793834296724,0.7938006535762628,0.7928122420471141,0.7891656957335672,0.7865008543763053,0.7856240279937792,0.7788849145517516,0.7767197271176804,0.7750355956336022,0.7678806272129489,0.7642690210334978,0.7606263353199145,0.7602228812797699,0.7498108448928121,0.7382379654859219],\"yaxis\":\"y2\",\"type\":\"box\"},{\"hovertemplate\":\"<b>OLS trendline</b><br>\\u53f0\\u5317/\\u65b0\\u5317\\u53d7\\u6559\\u80b2\\u4e14\\u7562\\u696d\\u6bd4\\u4f8b = -0.603908 * \\u53f0\\u5317/\\u65b0\\u5317\\u66fe\\u7d93\\u53d7\\u6559\\u80b2\\u767e\\u5206\\u6bd4 + 1.3357<br>R<sup>2</sup>=0.350287<br><br>\\u53f0\\u5317/\\u65b0\\u5317\\u66fe\\u7d93\\u53d7\\u6559\\u80b2\\u767e\\u5206\\u6bd4=%{x}<br>\\u53f0\\u5317/\\u65b0\\u5317\\u53d7\\u6559\\u80b2\\u4e14\\u7562\\u696d\\u6bd4\\u4f8b=%{y} <b>(trend)</b><extra></extra>\",\"legendgroup\":\"\",\"marker\":{\"color\":\"#636efa\",\"symbol\":\"circle\"},\"mode\":\"lines\",\"name\":\"\",\"showlegend\":false,\"x\":[0.8259660969619274,0.8357172393359142,0.840217423327343,0.8496325746420408,0.8560459004002542,0.8572302544050063,0.8572772101062478,0.8576978866531495,0.8588843385948869,0.8592164819728422,0.8593816978446872,0.8640080063937986,0.8647720106982104,0.8649315159796047,0.8664138912448002,0.8682351868317261,0.8684031879815916,0.8691255835156493,0.8735102777846488,0.8772753896156099,0.8774715914239629,0.8821207114811079,0.8821877141859986,0.8865417588280695,0.890152376620423,0.8916681764652595,0.8918905832766431,0.8961293066780094,0.9015612327656123,0.9015779369761671,0.9049964813511612,0.9050770413449647,0.9055703703703704,0.9068391358194579,0.9088264725503277,0.9098333052702475,0.91878113775924,0.9249375575128171,0.9269236493525822,0.9288755321813174,0.9325071918566055],\"xaxis\":\"x\",\"y\":[0.8368939179267191,0.8310051241082922,0.8282874265653658,0.8226015404676041,0.8187284811241906,0.8180132401529769,0.8179848832248751,0.817730833252683,0.8170143253203404,0.8168137412455808,0.8167139660430957,0.813920100858764,0.813458712474458,0.8133623859437751,0.8124671675207973,0.8113672723718526,0.811265815117423,0.8108295546063709,0.8081816022417476,0.8059078207271839,0.8057893328668,0.8029816916281,0.8029412281522071,0.8003117853454051,0.7981313040314377,0.7972159002342316,0.7970815869603791,0.7945217875844028,0.7912414034468314,0.7912313156388512,0.789166829016526,0.7891181781841079,0.7888202527920011,0.7880540350662142,0.7868538663262828,0.7862458318960738,0.7808421634202587,0.7771242516927855,0.7759248347526702,0.7747460769112492,0.7725528882338365],\"yaxis\":\"y\",\"type\":\"scatter\"}],                        {\"template\":{\"data\":{\"histogram2dcontour\":[{\"type\":\"histogram2dcontour\",\"colorbar\":{\"outlinewidth\":0,\"ticks\":\"\"},\"colorscale\":[[0.0,\"#0d0887\"],[0.1111111111111111,\"#46039f\"],[0.2222222222222222,\"#7201a8\"],[0.3333333333333333,\"#9c179e\"],[0.4444444444444444,\"#bd3786\"],[0.5555555555555556,\"#d8576b\"],[0.6666666666666666,\"#ed7953\"],[0.7777777777777778,\"#fb9f3a\"],[0.8888888888888888,\"#fdca26\"],[1.0,\"#f0f921\"]]}],\"choropleth\":[{\"type\":\"choropleth\",\"colorbar\":{\"outlinewidth\":0,\"ticks\":\"\"}}],\"histogram2d\":[{\"type\":\"histogram2d\",\"colorbar\":{\"outlinewidth\":0,\"ticks\":\"\"},\"colorscale\":[[0.0,\"#0d0887\"],[0.1111111111111111,\"#46039f\"],[0.2222222222222222,\"#7201a8\"],[0.3333333333333333,\"#9c179e\"],[0.4444444444444444,\"#bd3786\"],[0.5555555555555556,\"#d8576b\"],[0.6666666666666666,\"#ed7953\"],[0.7777777777777778,\"#fb9f3a\"],[0.8888888888888888,\"#fdca26\"],[1.0,\"#f0f921\"]]}],\"heatmap\":[{\"type\":\"heatmap\",\"colorbar\":{\"outlinewidth\":0,\"ticks\":\"\"},\"colorscale\":[[0.0,\"#0d0887\"],[0.1111111111111111,\"#46039f\"],[0.2222222222222222,\"#7201a8\"],[0.3333333333333333,\"#9c179e\"],[0.4444444444444444,\"#bd3786\"],[0.5555555555555556,\"#d8576b\"],[0.6666666666666666,\"#ed7953\"],[0.7777777777777778,\"#fb9f3a\"],[0.8888888888888888,\"#fdca26\"],[1.0,\"#f0f921\"]]}],\"heatmapgl\":[{\"type\":\"heatmapgl\",\"colorbar\":{\"outlinewidth\":0,\"ticks\":\"\"},\"colorscale\":[[0.0,\"#0d0887\"],[0.1111111111111111,\"#46039f\"],[0.2222222222222222,\"#7201a8\"],[0.3333333333333333,\"#9c179e\"],[0.4444444444444444,\"#bd3786\"],[0.5555555555555556,\"#d8576b\"],[0.6666666666666666,\"#ed7953\"],[0.7777777777777778,\"#fb9f3a\"],[0.8888888888888888,\"#fdca26\"],[1.0,\"#f0f921\"]]}],\"contourcarpet\":[{\"type\":\"contourcarpet\",\"colorbar\":{\"outlinewidth\":0,\"ticks\":\"\"}}],\"contour\":[{\"type\":\"contour\",\"colorbar\":{\"outlinewidth\":0,\"ticks\":\"\"},\"colorscale\":[[0.0,\"#0d0887\"],[0.1111111111111111,\"#46039f\"],[0.2222222222222222,\"#7201a8\"],[0.3333333333333333,\"#9c179e\"],[0.4444444444444444,\"#bd3786\"],[0.5555555555555556,\"#d8576b\"],[0.6666666666666666,\"#ed7953\"],[0.7777777777777778,\"#fb9f3a\"],[0.8888888888888888,\"#fdca26\"],[1.0,\"#f0f921\"]]}],\"surface\":[{\"type\":\"surface\",\"colorbar\":{\"outlinewidth\":0,\"ticks\":\"\"},\"colorscale\":[[0.0,\"#0d0887\"],[0.1111111111111111,\"#46039f\"],[0.2222222222222222,\"#7201a8\"],[0.3333333333333333,\"#9c179e\"],[0.4444444444444444,\"#bd3786\"],[0.5555555555555556,\"#d8576b\"],[0.6666666666666666,\"#ed7953\"],[0.7777777777777778,\"#fb9f3a\"],[0.8888888888888888,\"#fdca26\"],[1.0,\"#f0f921\"]]}],\"mesh3d\":[{\"type\":\"mesh3d\",\"colorbar\":{\"outlinewidth\":0,\"ticks\":\"\"}}],\"scatter\":[{\"fillpattern\":{\"fillmode\":\"overlay\",\"size\":10,\"solidity\":0.2},\"type\":\"scatter\"}],\"parcoords\":[{\"type\":\"parcoords\",\"line\":{\"colorbar\":{\"outlinewidth\":0,\"ticks\":\"\"}}}],\"scatterpolargl\":[{\"type\":\"scatterpolargl\",\"marker\":{\"colorbar\":{\"outlinewidth\":0,\"ticks\":\"\"}}}],\"bar\":[{\"error_x\":{\"color\":\"#2a3f5f\"},\"error_y\":{\"color\":\"#2a3f5f\"},\"marker\":{\"line\":{\"color\":\"#E5ECF6\",\"width\":0.5},\"pattern\":{\"fillmode\":\"overlay\",\"size\":10,\"solidity\":0.2}},\"type\":\"bar\"}],\"scattergeo\":[{\"type\":\"scattergeo\",\"marker\":{\"colorbar\":{\"outlinewidth\":0,\"ticks\":\"\"}}}],\"scatterpolar\":[{\"type\":\"scatterpolar\",\"marker\":{\"colorbar\":{\"outlinewidth\":0,\"ticks\":\"\"}}}],\"histogram\":[{\"marker\":{\"pattern\":{\"fillmode\":\"overlay\",\"size\":10,\"solidity\":0.2}},\"type\":\"histogram\"}],\"scattergl\":[{\"type\":\"scattergl\",\"marker\":{\"colorbar\":{\"outlinewidth\":0,\"ticks\":\"\"}}}],\"scatter3d\":[{\"type\":\"scatter3d\",\"line\":{\"colorbar\":{\"outlinewidth\":0,\"ticks\":\"\"}},\"marker\":{\"colorbar\":{\"outlinewidth\":0,\"ticks\":\"\"}}}],\"scattermapbox\":[{\"type\":\"scattermapbox\",\"marker\":{\"colorbar\":{\"outlinewidth\":0,\"ticks\":\"\"}}}],\"scatterternary\":[{\"type\":\"scatterternary\",\"marker\":{\"colorbar\":{\"outlinewidth\":0,\"ticks\":\"\"}}}],\"scattercarpet\":[{\"type\":\"scattercarpet\",\"marker\":{\"colorbar\":{\"outlinewidth\":0,\"ticks\":\"\"}}}],\"carpet\":[{\"aaxis\":{\"endlinecolor\":\"#2a3f5f\",\"gridcolor\":\"white\",\"linecolor\":\"white\",\"minorgridcolor\":\"white\",\"startlinecolor\":\"#2a3f5f\"},\"baxis\":{\"endlinecolor\":\"#2a3f5f\",\"gridcolor\":\"white\",\"linecolor\":\"white\",\"minorgridcolor\":\"white\",\"startlinecolor\":\"#2a3f5f\"},\"type\":\"carpet\"}],\"table\":[{\"cells\":{\"fill\":{\"color\":\"#EBF0F8\"},\"line\":{\"color\":\"white\"}},\"header\":{\"fill\":{\"color\":\"#C8D4E3\"},\"line\":{\"color\":\"white\"}},\"type\":\"table\"}],\"barpolar\":[{\"marker\":{\"line\":{\"color\":\"#E5ECF6\",\"width\":0.5},\"pattern\":{\"fillmode\":\"overlay\",\"size\":10,\"solidity\":0.2}},\"type\":\"barpolar\"}],\"pie\":[{\"automargin\":true,\"type\":\"pie\"}]},\"layout\":{\"autotypenumbers\":\"strict\",\"colorway\":[\"#636efa\",\"#EF553B\",\"#00cc96\",\"#ab63fa\",\"#FFA15A\",\"#19d3f3\",\"#FF6692\",\"#B6E880\",\"#FF97FF\",\"#FECB52\"],\"font\":{\"color\":\"#2a3f5f\"},\"hovermode\":\"closest\",\"hoverlabel\":{\"align\":\"left\"},\"paper_bgcolor\":\"white\",\"plot_bgcolor\":\"#E5ECF6\",\"polar\":{\"bgcolor\":\"#E5ECF6\",\"angularaxis\":{\"gridcolor\":\"white\",\"linecolor\":\"white\",\"ticks\":\"\"},\"radialaxis\":{\"gridcolor\":\"white\",\"linecolor\":\"white\",\"ticks\":\"\"}},\"ternary\":{\"bgcolor\":\"#E5ECF6\",\"aaxis\":{\"gridcolor\":\"white\",\"linecolor\":\"white\",\"ticks\":\"\"},\"baxis\":{\"gridcolor\":\"white\",\"linecolor\":\"white\",\"ticks\":\"\"},\"caxis\":{\"gridcolor\":\"white\",\"linecolor\":\"white\",\"ticks\":\"\"}},\"coloraxis\":{\"colorbar\":{\"outlinewidth\":0,\"ticks\":\"\"}},\"colorscale\":{\"sequential\":[[0.0,\"#0d0887\"],[0.1111111111111111,\"#46039f\"],[0.2222222222222222,\"#7201a8\"],[0.3333333333333333,\"#9c179e\"],[0.4444444444444444,\"#bd3786\"],[0.5555555555555556,\"#d8576b\"],[0.6666666666666666,\"#ed7953\"],[0.7777777777777778,\"#fb9f3a\"],[0.8888888888888888,\"#fdca26\"],[1.0,\"#f0f921\"]],\"sequentialminus\":[[0.0,\"#0d0887\"],[0.1111111111111111,\"#46039f\"],[0.2222222222222222,\"#7201a8\"],[0.3333333333333333,\"#9c179e\"],[0.4444444444444444,\"#bd3786\"],[0.5555555555555556,\"#d8576b\"],[0.6666666666666666,\"#ed7953\"],[0.7777777777777778,\"#fb9f3a\"],[0.8888888888888888,\"#fdca26\"],[1.0,\"#f0f921\"]],\"diverging\":[[0,\"#8e0152\"],[0.1,\"#c51b7d\"],[0.2,\"#de77ae\"],[0.3,\"#f1b6da\"],[0.4,\"#fde0ef\"],[0.5,\"#f7f7f7\"],[0.6,\"#e6f5d0\"],[0.7,\"#b8e186\"],[0.8,\"#7fbc41\"],[0.9,\"#4d9221\"],[1,\"#276419\"]]},\"xaxis\":{\"gridcolor\":\"white\",\"linecolor\":\"white\",\"ticks\":\"\",\"title\":{\"standoff\":15},\"zerolinecolor\":\"white\",\"automargin\":true,\"zerolinewidth\":2},\"yaxis\":{\"gridcolor\":\"white\",\"linecolor\":\"white\",\"ticks\":\"\",\"title\":{\"standoff\":15},\"zerolinecolor\":\"white\",\"automargin\":true,\"zerolinewidth\":2},\"scene\":{\"xaxis\":{\"backgroundcolor\":\"#E5ECF6\",\"gridcolor\":\"white\",\"linecolor\":\"white\",\"showbackground\":true,\"ticks\":\"\",\"zerolinecolor\":\"white\",\"gridwidth\":2},\"yaxis\":{\"backgroundcolor\":\"#E5ECF6\",\"gridcolor\":\"white\",\"linecolor\":\"white\",\"showbackground\":true,\"ticks\":\"\",\"zerolinecolor\":\"white\",\"gridwidth\":2},\"zaxis\":{\"backgroundcolor\":\"#E5ECF6\",\"gridcolor\":\"white\",\"linecolor\":\"white\",\"showbackground\":true,\"ticks\":\"\",\"zerolinecolor\":\"white\",\"gridwidth\":2}},\"shapedefaults\":{\"line\":{\"color\":\"#2a3f5f\"}},\"annotationdefaults\":{\"arrowcolor\":\"#2a3f5f\",\"arrowhead\":0,\"arrowwidth\":1},\"geo\":{\"bgcolor\":\"white\",\"landcolor\":\"#E5ECF6\",\"subunitcolor\":\"white\",\"showland\":true,\"showlakes\":true,\"lakecolor\":\"white\"},\"title\":{\"x\":0.05},\"mapbox\":{\"style\":\"light\"}}},\"xaxis\":{\"anchor\":\"y\",\"domain\":[0.0,0.8358],\"title\":{\"text\":\"\\u53f0\\u5317/\\u65b0\\u5317\\u66fe\\u7d93\\u53d7\\u6559\\u80b2\\u767e\\u5206\\u6bd4\"}},\"yaxis\":{\"anchor\":\"x\",\"domain\":[0.0,0.7326],\"title\":{\"text\":\"\\u53f0\\u5317/\\u65b0\\u5317\\u53d7\\u6559\\u80b2\\u4e14\\u7562\\u696d\\u6bd4\\u4f8b\"}},\"xaxis2\":{\"anchor\":\"y2\",\"domain\":[0.8408,1.0],\"matches\":\"x2\",\"showticklabels\":false,\"showline\":false,\"ticks\":\"\",\"showgrid\":false},\"yaxis2\":{\"anchor\":\"x2\",\"domain\":[0.0,0.7326],\"matches\":\"y\",\"showticklabels\":false,\"showgrid\":true},\"xaxis3\":{\"anchor\":\"y3\",\"domain\":[0.0,0.8358],\"matches\":\"x\",\"showticklabels\":false,\"showgrid\":true},\"yaxis3\":{\"anchor\":\"x3\",\"domain\":[0.7426,1.0],\"matches\":\"y3\",\"showticklabels\":false,\"showline\":false,\"ticks\":\"\",\"showgrid\":true},\"xaxis4\":{\"anchor\":\"y4\",\"domain\":[0.8408,1.0],\"matches\":\"x2\",\"showticklabels\":false,\"showgrid\":false,\"showline\":false,\"ticks\":\"\"},\"yaxis4\":{\"anchor\":\"x4\",\"domain\":[0.7426,1.0],\"matches\":\"y3\",\"showticklabels\":false,\"showline\":false,\"ticks\":\"\",\"showgrid\":true},\"legend\":{\"tracegroupgap\":0},\"margin\":{\"t\":60},\"barmode\":\"overlay\"},                        {\"responsive\": true}                    ).then(function(){\n",
       "                            \n",
       "var gd = document.getElementById('f3b89ff2-455f-4f2f-999f-001428742fc3');\n",
       "var x = new MutationObserver(function (mutations, observer) {{\n",
       "        var display = window.getComputedStyle(gd).display;\n",
       "        if (!display || display === 'none') {{\n",
       "            console.log([gd, 'removed!']);\n",
       "            Plotly.purge(gd);\n",
       "            observer.disconnect();\n",
       "        }}\n",
       "}});\n",
       "\n",
       "// Listen for the removal of the full notebook cells\n",
       "var notebookContainer = gd.closest('#notebook-container');\n",
       "if (notebookContainer) {{\n",
       "    x.observe(notebookContainer, {childList: true});\n",
       "}}\n",
       "\n",
       "// Listen for the clearing of the current output cell\n",
       "var outputEl = gd.closest('.output');\n",
       "if (outputEl) {{\n",
       "    x.observe(outputEl, {childList: true});\n",
       "}}\n",
       "\n",
       "                        })                };                });            </script>        </div>"
      ]
     },
     "metadata": {},
     "output_type": "display_data"
    }
   ],
   "source": [
    "# # x and y given as DataFrame columns\n",
    "# import plotly.express as px\n",
    "# # df = px.data.iris() # iris is a pandas DataFrame\n",
    "# figg = px.scatter(df, x=\"台北/新北曾經受教育百分比\", y=\"台北/新北受教育且畢業比例\", color=\"species\")\n",
    "# figg.show()\n",
    "\n",
    "# x and y given as DataFrame columns\n",
    "import plotly.express as px\n",
    "# df = px.data.iris() # iris is a pandas DataFrame\n",
    "fig = px.scatter(df, x=\"台北/新北曾經受教育百分比\", y=\"台北/新北受教育且畢業比例\",trendline=\"ols\",marginal_x=\"histogram\", marginal_y=\"rug\")\n",
    "# fig.color=\"smoker\"\n",
    "# fig.update_traces(line_color='purple')\n",
    "fig"
   ]
  },
  {
   "cell_type": "markdown",
   "id": "80c404e3",
   "metadata": {},
   "source": [
    "#### 問題1\n",
    "在台北/新北地區中，曾經受教育與曾經受教育且畢業之比例有什麼關聯性?"
   ]
  },
  {
   "cell_type": "markdown",
   "id": "887cec4b",
   "metadata": {},
   "source": [
    "#### 問題2\n",
    "是否有極端值?"
   ]
  },
  {
   "cell_type": "markdown",
   "id": "32662702",
   "metadata": {},
   "source": [
    "#### 問題3\n",
    "各地區中，有較集中的區域嗎?"
   ]
  },
  {
   "cell_type": "markdown",
   "id": "65e0cf31",
   "metadata": {},
   "source": [
    "#### 問題4\n",
    "你同意若已知該地區曾經受教育比例高於平均值，則可以推估，該地區受過教育且畢業的比例就低於平均值這個說法嗎?"
   ]
  },
  {
   "cell_type": "markdown",
   "id": "9034c24c",
   "metadata": {},
   "source": [
    "#### 問題5\n",
    "如何說明圖中的回歸線"
   ]
  }
 ],
 "metadata": {
  "kernelspec": {
   "display_name": "Python 3 (ipykernel)",
   "language": "python",
   "name": "python3"
  },
  "language_info": {
   "codemirror_mode": {
    "name": "ipython",
    "version": 3
   },
   "file_extension": ".py",
   "mimetype": "text/x-python",
   "name": "python",
   "nbconvert_exporter": "python",
   "pygments_lexer": "ipython3",
   "version": "3.9.13"
  }
 },
 "nbformat": 4,
 "nbformat_minor": 5
}
